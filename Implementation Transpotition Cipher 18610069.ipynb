{
 "cells": [
  {
   "cell_type": "markdown",
   "metadata": {},
   "source": [
    "# Implementation Transpotition Cipher in Python"
   ]
  },
  {
   "cell_type": "code",
   "execution_count": 6,
   "metadata": {},
   "outputs": [],
   "source": [
    "def entrans(p,k):\n",
    "    c=''\n",
    "    b=len(p)\n",
    "    while b%k>0:\n",
    "        p=p+'x'\n",
    "    b=len(p)\n",
    "    n=b//k\n",
    "    for i in range(k):\n",
    "        for j in range(n):\n",
    "            c=c+p[i+j*k]\n",
    "    return c\n",
    "\n",
    "def detrans(c,k):\n",
    "    b=len(c)\n",
    "    k=b//k\n",
    "    p=''\n",
    "    n=b//k\n",
    "    for i in range(k):\n",
    "        for j in range(n):\n",
    "            p=p+c[i+j*k]\n",
    "    return p"
   ]
  },
  {
   "cell_type": "code",
   "execution_count": 13,
   "metadata": {},
   "outputs": [
    {
     "data": {
      "text/plain": [
       "'METAAMIKTAKU'"
      ]
     },
     "execution_count": 13,
     "metadata": {},
     "output_type": "execute_result"
    }
   ],
   "source": [
    "entrans('MATEMATIKAKU',3)"
   ]
  },
  {
   "cell_type": "code",
   "execution_count": 14,
   "metadata": {},
   "outputs": [
    {
     "data": {
      "text/plain": [
       "'MATEMATIKAKU'"
      ]
     },
     "execution_count": 14,
     "metadata": {},
     "output_type": "execute_result"
    }
   ],
   "source": [
    "detrans('METAAMIKTAKU',3)"
   ]
  },
  {
   "cell_type": "code",
   "execution_count": 16,
   "metadata": {},
   "outputs": [
    {
     "name": "stdout",
     "output_type": "stream",
     "text": [
      "1\n",
      "MTMTKKAEAIAU\n",
      "2\n",
      "MATEMATIKAKU\n",
      "3\n",
      "MKATKIMAATEU\n",
      "4\n",
      "MTAITKEAMKAU\n"
     ]
    }
   ],
   "source": [
    "for i in range(1,5):\n",
    "    print(i)\n",
    "    print(detrans('MTMTKKAEAIAU',i))"
   ]
  },
  {
   "cell_type": "markdown",
   "metadata": {},
   "source": [
    "#### "
   ]
  }
 ],
 "metadata": {
  "kernelspec": {
   "display_name": "Python 3",
   "language": "python",
   "name": "python3"
  },
  "language_info": {
   "codemirror_mode": {
    "name": "ipython",
    "version": 3
   },
   "file_extension": ".py",
   "mimetype": "text/x-python",
   "name": "python",
   "nbconvert_exporter": "python",
   "pygments_lexer": "ipython3",
   "version": "3.9.1"
  }
 },
 "nbformat": 4,
 "nbformat_minor": 4
}
