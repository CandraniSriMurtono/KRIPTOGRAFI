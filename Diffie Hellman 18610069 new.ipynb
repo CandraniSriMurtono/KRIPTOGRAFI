{
 "cells": [
  {
   "cell_type": "markdown",
   "id": "96831870",
   "metadata": {},
   "source": [
    "# Diffie Helman"
   ]
  },
  {
   "cell_type": "code",
   "execution_count": 6,
   "id": "0d97987d",
   "metadata": {},
   "outputs": [],
   "source": [
    "# Pertukaran kunci asimetris Diffie-Hellman\n",
    "\n",
    "def publickey(g,a,p):  \n",
    "\tastar=pow(g,a,p)  # pow(base,exp,m) is equivalent to base**exp mod m\n",
    "\treturn astar\n",
    "\n",
    "# menghitung kunci super x yang diberikan bstar (kunci publik Bob), a (kunci pribadi Alice) dan parameter p\n",
    "def superkey(bstar,a,p): \n",
    "\tx=pow(bstar,a,p)\n",
    "\treturn x"
   ]
  },
  {
   "cell_type": "code",
   "execution_count": 9,
   "id": "medical-million",
   "metadata": {},
   "outputs": [
    {
     "name": "stdout",
     "output_type": "stream",
     "text": [
      "the public key of Alice is=  7436\n",
      "the public key of Bob is=  65365\n"
     ]
    }
   ],
   "source": [
    "# set the global parameters known to everybody\n",
    "p=103079\n",
    "g=7\n",
    "\n",
    "# private key of Alice -- has to be < p\n",
    "a=13  \n",
    "# compute Alice's public key given the global parameters and her private key a\n",
    "astar=publickey(g,a,p)  \n",
    "print(\"the public key of Alice is= \", astar)\n",
    "\n",
    "# private and public keys untuk Bob \n",
    "b=11     # it is smaller than p\n",
    "bstar=publickey(g,b,p)\n",
    "print(\"the public key of Bob is= \", bstar)"
   ]
  },
  {
   "cell_type": "code",
   "execution_count": 15,
   "id": "3c3e7eba",
   "metadata": {},
   "outputs": [
    {
     "name": "stdout",
     "output_type": "stream",
     "text": [
      "the superkey is =  86327\n",
      "encrypted=  86363\n",
      "decrypted=  36\n"
     ]
    }
   ],
   "source": [
    "# menghitung kunci super x yang diberikan bstar (kunci publik Bob), a (kunci pribadi Alice)\n",
    "x= superkey(bstar,a,p)  \n",
    "print(\"the superkey is = \", x)\n",
    "\n",
    "# gunakan kunci super untuk mengenkripsi nomor (solusi sederhana)\n",
    "t=36\n",
    "encrypted=(t+x) % p\n",
    "print('encrypted= ', encrypted)\n",
    "\n",
    "# dekripsi\n",
    "decrypted=(encrypted-x)%p\n",
    "print('decrypted= ', decrypted)"
   ]
  },
  {
   "cell_type": "code",
   "execution_count": 17,
   "id": "paperback-twenty",
   "metadata": {},
   "outputs": [],
   "source": [
    "#coba menggunakan angka lain"
   ]
  }
 ],
 "metadata": {
  "kernelspec": {
   "display_name": "Python 3",
   "language": "python",
   "name": "python3"
  },
  "language_info": {
   "codemirror_mode": {
    "name": "ipython",
    "version": 3
   },
   "file_extension": ".py",
   "mimetype": "text/x-python",
   "name": "python",
   "nbconvert_exporter": "python",
   "pygments_lexer": "ipython3",
   "version": "3.9.1"
  }
 },
 "nbformat": 4,
 "nbformat_minor": 5
}
