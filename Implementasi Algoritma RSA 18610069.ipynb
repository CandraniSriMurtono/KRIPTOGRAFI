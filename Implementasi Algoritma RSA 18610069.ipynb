{
 "cells": [
  {
   "cell_type": "code",
   "execution_count": 5,
   "metadata": {},
   "outputs": [],
   "source": [
    "import random\n",
    "import sys\n",
    "#fungsi ini untuk mengecek apakah bilangan prima, \n",
    "#jika benar akan mengemballikan nilai benar (True)\n",
    "\n",
    "\n",
    "def is_prime(num):\n",
    "    if num < 2:\n",
    "        return False\n",
    "    for prime in range(2, num):\n",
    "        if num % prime == 0:\n",
    "            return False\n",
    "    return True\n",
    "#fungsi ini untuk mmencari bilangan prima dari yang terkecil \n",
    "#dari kecil ke terbesar (maks)\n",
    "\n",
    "\n",
    "def find_prime(min, max):\n",
    "    while 1:\n",
    "        value = random.randrange(min,max)\n",
    "        prime = is_prime(value)\n",
    "        if prime:\n",
    "            return value\n",
    "        \n",
    "def gcd(a,b):\n",
    "    while b !=0:\n",
    "        a,b = b, a %b\n",
    "    return a\n",
    "\n",
    "\n",
    "def find_e(phi):\n",
    "    while True:\n",
    "        e=random.randrange(2, phi)\n",
    "        if gcd(e, phi) == 1:\n",
    "            break\n",
    "    return e\n",
    "\n",
    "#fungsi ini mencari nilai d (kunci privasi)\n",
    "#mencari nilai d= (d*e) mod phi = 1\n",
    "#hasilnya harus 1. baru dikembalikan ke nilai d\n",
    "\n",
    "def find_d(e, phi):\n",
    "    d = 2\n",
    "    while 1:\n",
    "        if ((d*e) % phi) == 1:\n",
    "            break\n",
    "        d += 1\n",
    "    return d\n",
    "\n",
    "#generate keypair\n",
    "def gen_key():\n",
    "    p = find_prime(128,256)\n",
    "    q = find_prime(128,256)\n",
    "    #nilai p dan q tidak boleh sama, p != q\n",
    "    if p != q:\n",
    "        n = p * q\n",
    "        phi = (p-1) * (q-1)\n",
    "        e = find_e(phi)\n",
    "        d = find_d(e, phi)\n",
    "        return ((e, n), (d, n))\n",
    "    \n",
    "#fungsi ini meng enkripsikan \n",
    "#dengan rumus c=(m^e) mod n\n",
    "#c=ciphertext\n",
    "#m=plaintext\n",
    "#e=kunci publik\n",
    "\n",
    "def encrypt(e,n, plaintext):\n",
    "    ciphertext = [(ord(m)**e) % n for m in plaintext]\n",
    "    return ciphertext\n",
    "\n",
    "def decrypt(d, n, ciphertext):\n",
    "    plaintext = [chr((c**d) % n) for c in ciphertext]\n",
    "    return plaintext"
   ]
  },
  {
   "cell_type": "code",
   "execution_count": 21,
   "metadata": {},
   "outputs": [
    {
     "name": "stdout",
     "output_type": "stream",
     "text": [
      "[141, 105, 105, 61, 76, 29, 105, 66, 76, 75, 65, 78, 96]\n"
     ]
    }
   ],
   "source": [
    "ciphertext = encrypt(59,143,'GOOD JOB RANI')\n",
    "print(ciphertext)"
   ]
  },
  {
   "cell_type": "code",
   "execution_count": 23,
   "metadata": {},
   "outputs": [
    {
     "name": "stdout",
     "output_type": "stream",
     "text": [
      "GOOD JOB RANI\n"
     ]
    }
   ],
   "source": [
    "plaintext = decrypt(59,143,[141, 105, 105, 61, 76, 29, 105, 66, 76, 75, 65, 78, 96])\n",
    "decrypted = ''.join(plaintext)\n",
    "print(decrypted)"
   ]
  },
  {
   "cell_type": "code",
   "execution_count": 26,
   "metadata": {},
   "outputs": [
    {
     "data": {
      "text/plain": [
       "((31501, 38579), (5965, 38579))"
      ]
     },
     "execution_count": 26,
     "metadata": {},
     "output_type": "execute_result"
    }
   ],
   "source": [
    "gen_key()"
   ]
  }
 ],
 "metadata": {
  "kernelspec": {
   "display_name": "Python 3",
   "language": "python",
   "name": "python3"
  },
  "language_info": {
   "codemirror_mode": {
    "name": "ipython",
    "version": 3
   },
   "file_extension": ".py",
   "mimetype": "text/x-python",
   "name": "python",
   "nbconvert_exporter": "python",
   "pygments_lexer": "ipython3",
   "version": "3.9.1"
  }
 },
 "nbformat": 4,
 "nbformat_minor": 4
}
