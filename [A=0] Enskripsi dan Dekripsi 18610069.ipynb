{
 "cells": [
  {
   "cell_type": "markdown",
   "metadata": {},
   "source": [
    "# Proses Enkripsi dan Dekripsi pada Python "
   ]
  },
  {
   "cell_type": "code",
   "execution_count": 1,
   "metadata": {},
   "outputs": [],
   "source": [
    "p='aku' ; "
   ]
  },
  {
   "cell_type": "code",
   "execution_count": 2,
   "metadata": {},
   "outputs": [
    {
     "data": {
      "text/plain": [
       "'aku'"
      ]
     },
     "execution_count": 2,
     "metadata": {},
     "output_type": "execute_result"
    }
   ],
   "source": [
    "p"
   ]
  },
  {
   "cell_type": "code",
   "execution_count": 3,
   "metadata": {},
   "outputs": [
    {
     "data": {
      "text/plain": [
       "'a'"
      ]
     },
     "execution_count": 3,
     "metadata": {},
     "output_type": "execute_result"
    }
   ],
   "source": [
    "p[0]"
   ]
  },
  {
   "cell_type": "code",
   "execution_count": 4,
   "metadata": {},
   "outputs": [
    {
     "data": {
      "text/plain": [
       "'k'"
      ]
     },
     "execution_count": 4,
     "metadata": {},
     "output_type": "execute_result"
    }
   ],
   "source": [
    "p[1]"
   ]
  },
  {
   "cell_type": "code",
   "execution_count": 5,
   "metadata": {},
   "outputs": [
    {
     "data": {
      "text/plain": [
       "'u'"
      ]
     },
     "execution_count": 5,
     "metadata": {},
     "output_type": "execute_result"
    }
   ],
   "source": [
    "p[2]"
   ]
  },
  {
   "cell_type": "code",
   "execution_count": 6,
   "metadata": {},
   "outputs": [
    {
     "data": {
      "text/plain": [
       "97"
      ]
     },
     "execution_count": 6,
     "metadata": {},
     "output_type": "execute_result"
    }
   ],
   "source": [
    "ord('a') #ord itu huruf menjadi angka (huruf ASCII)"
   ]
  },
  {
   "cell_type": "code",
   "execution_count": 7,
   "metadata": {},
   "outputs": [
    {
     "data": {
      "text/plain": [
       "'B'"
      ]
     },
     "execution_count": 7,
     "metadata": {},
     "output_type": "execute_result"
    }
   ],
   "source": [
    "chr(66) #chr itu dari angka menjadi huruf (huruf ASCII)"
   ]
  },
  {
   "cell_type": "code",
   "execution_count": 8,
   "metadata": {},
   "outputs": [],
   "source": [
    "ct=''"
   ]
  },
  {
   "cell_type": "code",
   "execution_count": 12,
   "metadata": {},
   "outputs": [],
   "source": [
    "#proses enkripsi (ditambah kunci)\n",
    "\n",
    "for i in range (0, len(p)):\n",
    "    c=chr(ord(p[i])+3) #chiper text itu plain text + kunci (diangka kan dulu pakai ord dari pesan). kunci = 3.\n",
    "    #terus dikasih chr supaya dia balik jadi text\n",
    "    ct=ct+c"
   ]
  },
  {
   "cell_type": "code",
   "execution_count": 13,
   "metadata": {},
   "outputs": [
    {
     "data": {
      "text/plain": [
       "'dnxdnx'"
      ]
     },
     "execution_count": 13,
     "metadata": {},
     "output_type": "execute_result"
    }
   ],
   "source": [
    "ct #melihat hasil dari p tadi. \n",
    "\n",
    "#alurnya:\n",
    "#(a=97) + 3 = 100. Dalam ASCII, 100 adalah huruf D\n",
    "#begitu seterusnya untuk huruf K dan huruf U"
   ]
  },
  {
   "cell_type": "code",
   "execution_count": 14,
   "metadata": {},
   "outputs": [
    {
     "data": {
      "text/plain": [
       "'aku'"
      ]
     },
     "execution_count": 14,
     "metadata": {},
     "output_type": "execute_result"
    }
   ],
   "source": [
    "p"
   ]
  },
  {
   "cell_type": "code",
   "execution_count": 15,
   "metadata": {},
   "outputs": [],
   "source": [
    "pt=''"
   ]
  },
  {
   "cell_type": "code",
   "execution_count": 18,
   "metadata": {},
   "outputs": [],
   "source": [
    "p=''"
   ]
  },
  {
   "cell_type": "code",
   "execution_count": 22,
   "metadata": {},
   "outputs": [],
   "source": [
    "#proses dekripsi ()\n",
    "for i in range (0, len(ct)):\n",
    "    p=chr(ord(ct[i])-3) #dikurangi kunci (kunci=3)\n",
    "    pt = pt + p"
   ]
  },
  {
   "cell_type": "code",
   "execution_count": 23,
   "metadata": {},
   "outputs": [
    {
     "data": {
      "text/plain": [
       "'akuakuakuakuakuakuakuaku'"
      ]
     },
     "execution_count": 23,
     "metadata": {},
     "output_type": "execute_result"
    }
   ],
   "source": [
    "pt"
   ]
  },
  {
   "cell_type": "markdown",
   "metadata": {},
   "source": [
    "# Menggunakan Pendefinisian dengan A=0"
   ]
  },
  {
   "cell_type": "code",
   "execution_count": 44,
   "metadata": {},
   "outputs": [],
   "source": [
    "#sekarang menggunakan penomoran a=0\n",
    "\n",
    "def encrypt(p,k): #parameter=pesan(p) dan kunci(k). butuh inputan\n",
    "    #A adalah dictionary angka, dari huruf ke angka\n",
    "    A={'a':0, 'b':1, 'c':2, 'd':3, 'e':4, 'f':5, 'g':6, 'h':7, 'i':8, 'j':9, 'k':10, 'l':11, 'm':12, 'n':13,\n",
    "       'o':14, 'p':15, 'q':16, 'r':17, 's':18, 't':19, 'u':20, 'v':21, 'w':22, 'x':23,'y':24,'z':25, ',':26}\n",
    "    #H adalah dictionary huruf, dari angka ke huruf\n",
    "    H={0:'a', 1:'b', 2:'c', 3:'d', 4:'e', 5:'f', 6:'g', 7:'h', 8:'i', 9:'j', 10:'k', 11:'l', 12:'m', 13:'n',\n",
    "       14:'o', 15:'p', 16:'q', 17:'r', 18:'s', 19:'t', 20:'u', 21:'v', 22:'w', 23:'x', 24:'y', 25:'z', 26:','}\n",
    "    c=''\n",
    "    b=len(p) #banyak karakter, len(p)\n",
    "    \n",
    "    for i in range(0,b): #dari 0 sampai banyaknya pesan\n",
    "        if p[i]==' ': #disini ditambah spasi, kalo dia spasi\n",
    "            ct=' ' #maka akan tetap spasi\n",
    "        \n",
    "        else : #jika bukan spasi\n",
    "            ca=(A[p[i]] + k)%27 #ca=cipher angka. angka dari pesan ke i. pesannya di angkakan dulu lalu tambah kunci, \n",
    "                                #lalu di modulo 26\n",
    "            ct=H[ca] #dari angka tadi di hurufkan jadi ct=cipher text\n",
    "        c= c+ct \n",
    "    return c\n",
    "\n",
    "\n",
    "def decrypt(c,k):\n",
    "    A={'a':0, 'b':1, 'c':2, 'd':3, 'e':4, 'f':5, 'g':6, 'h':7, 'i':8, 'j':9, 'k':10, 'l':11, 'm':12, 'n':13,\n",
    "       'o':14, 'p':15, 'q':16, 'r':17, 's':18, 't':19, 'u':20, 'v':21, 'w':22, 'x':23,'y':24,'z':25, ',':26}\n",
    "    H={0:'a', 1:'b', 2:'c', 3:'d', 4:'e', 5:'f', 6:'g', 7:'h', 8:'i', 9:'j', 10:'k', 11:'l', 12:'m', 13:'n',\n",
    "       14:'o', 15:'p', 16:'q', 17:'r', 18:'s', 19:'t', 20:'u', 21:'v', 22:'w', 23:'x', 24:'y', 25:'z', 26:','}\n",
    "    p=''\n",
    "    b=len(c)\n",
    "    for i in range (0,b):\n",
    "        if c[i]==' ':\n",
    "            pt=' '\n",
    "        else :\n",
    "            pa=(A[c[i]]-k)%27\n",
    "            pt=H[pa]\n",
    "        p=p+pt\n",
    "    return p\n",
    "\n",
    "#alur dari dekripsi sama seperti enkripsi, hanya saja dia dikurangi dengan kunci"
   ]
  },
  {
   "cell_type": "code",
   "execution_count": 45,
   "metadata": {},
   "outputs": [
    {
     "data": {
      "text/plain": [
       "'dnx ndx nxd'"
      ]
     },
     "execution_count": 45,
     "metadata": {},
     "output_type": "execute_result"
    }
   ],
   "source": [
    "encrypt('aku kau kua',3)"
   ]
  },
  {
   "cell_type": "code",
   "execution_count": 46,
   "metadata": {},
   "outputs": [
    {
     "data": {
      "text/plain": [
       "'aku kau kua'"
      ]
     },
     "execution_count": 46,
     "metadata": {},
     "output_type": "execute_result"
    }
   ],
   "source": [
    "decrypt('dnx ndx nxd',3)"
   ]
  },
  {
   "cell_type": "code",
   "execution_count": 49,
   "metadata": {},
   "outputs": [
    {
     "data": {
      "text/plain": [
       "'xjrtlf hfsiwfsn gnxf gjwotitm ijslfs ufsiz ffrnns'"
      ]
     },
     "execution_count": 49,
     "metadata": {},
     "output_type": "execute_result"
    }
   ],
   "source": [
    "encrypt('semoga candrani bisa berjodoh dengan pandu aamiin', 5)"
   ]
  },
  {
   "cell_type": "code",
   "execution_count": 51,
   "metadata": {},
   "outputs": [
    {
     "data": {
      "text/plain": [
       "'xjrtlf hfsiwfsn gnxf gjwotitm ijslfs ufsiz ffrnns'"
      ]
     },
     "execution_count": 51,
     "metadata": {},
     "output_type": "execute_result"
    }
   ],
   "source": [
    "decrypt('xjrtlf hfsiwfsn gnxf gjwotitm ijslfs ufsiz ffrnns',0) "
   ]
  },
  {
   "cell_type": "code",
   "execution_count": 50,
   "metadata": {
    "scrolled": true
   },
   "outputs": [
    {
     "name": "stdout",
     "output_type": "stream",
     "text": [
      "1\n",
      "tfnphb dboesboj cjtb cfskpepi efohbo qboev bbnjjo\n",
      "2\n",
      "ugoqic ecpftcpk dkuc dgtlqfqj fgpicp rcpfw ccokkp\n",
      "3\n",
      "vhprjd fdqgudql elvd ehumrgrk ghqjdq sdqgx ddpllq\n",
      "4\n",
      "wiqske gerhverm fmwe fivnshsl hirker terhy eeqmmr\n",
      "5\n",
      "xjrtlf hfsiwfsn gnxf gjwotitm ijslfs ufsiz ffrnns\n",
      "6\n",
      "yksumg igtjxgto hoyg hkxpujun jktmgt vgtj, ggsoot\n",
      "7\n",
      "zltvnh jhukyhup ipzh ilyqvkvo klunhu whuka hhtppu\n",
      "8\n",
      ",muwoi kivlzivq jq,i jmzrwlwp lmvoiv xivlb iiuqqv\n",
      "9\n",
      "anvxpj ljwm,jwr kraj kn,sxmxq mnwpjw yjwmc jjvrrw\n",
      "10\n",
      "bowyqk mkxnakxs lsbk loatynyr noxqkx zkxnd kkwssx\n",
      "11\n",
      "cpxzrl nlyoblyt mtcl mpbuzozs opyrly ,lyoe llxtty\n",
      "12\n",
      "dqy,sm omzpcmzu nudm nqcv,p,t pqzsmz amzpf mmyuuz\n",
      "13\n",
      "erzatn pn,qdn,v oven ordwaqau qr,tn, bn,qg nnzvv,\n",
      "14\n",
      "fs,buo qoareoaw pwfo psexbrbv rsauoa coarh oo,wwa\n",
      "15\n",
      "gtacvp rpbsfpbx qxgp qtfycscw stbvpb dpbsi ppaxxb\n",
      "16\n",
      "hubdwq sqctgqcy ryhq rugzdtdx tucwqc eqctj qqbyyc\n",
      "17\n",
      "ivcexr trduhrdz szir svh,euey uvdxrd frduk rrczzd\n",
      "18\n",
      "jwdfys usevise, t,js twiafvfz vweyse gsevl ssd,,e\n",
      "19\n",
      "kxegzt vtfwjtfa uakt uxjbgwg, wxfztf htfwm tteaaf\n",
      "20\n",
      "lyfh,u wugxkugb vblu vykchxha xyg,ug iugxn uufbbg\n",
      "21\n",
      "mzgiav xvhylvhc wcmv wzldiyib yzhavh jvhyo vvgcch\n",
      "22\n",
      "n,hjbw ywizmwid xdnw x,mejzjc z,ibwi kwizp wwhddi\n",
      "23\n",
      "oaikcx zxj,nxje yeox yanfk,kd ,ajcxj lxj,q xxieej\n",
      "24\n",
      "pbjldy ,ykaoykf zfpy zboglale abkdyk mykar yyjffk\n",
      "25\n",
      "qckmez azlbpzlg ,gqz ,cphmbmf bclezl nzlbs zzkggl\n"
     ]
    }
   ],
   "source": [
    "for i in range(1,26):\n",
    "    print(i)\n",
    "    print(encrypt('semoga candrani bisa berjodoh dengan pandu aamiin',i))"
   ]
  },
  {
   "cell_type": "code",
   "execution_count": 53,
   "metadata": {
    "scrolled": true
   },
   "outputs": [
    {
     "name": "stdout",
     "output_type": "stream",
     "text": [
      "1\n",
      "semoga candrani bisa berjodoh dengan pandu aamiin\n",
      "2\n",
      "rdlnf, b,mcq,mh ahr, adqincng cdmf,m o,mct ,,lhhm\n",
      "3\n",
      "qckmez azlbpzlg ,gqz ,cphmbmf bclezl nzlbs zzkggl\n",
      "4\n",
      "pbjldy ,ykaoykf zfpy zboglale abkdyk mykar yyjffk\n",
      "5\n",
      "oaikcx zxj,nxje yeox yanfk,kd ,ajcxj lxj,q xxieej\n",
      "6\n",
      "n,hjbw ywizmwid xdnw x,mejzjc z,ibwi kwizp wwhddi\n",
      "7\n",
      "mzgiav xvhylvhc wcmv wzldiyib yzhavh jvhyo vvgcch\n",
      "8\n",
      "lyfh,u wugxkugb vblu vykchxha xyg,ug iugxn uufbbg\n",
      "9\n",
      "kxegzt vtfwjtfa uakt uxjbgwg, wxfztf htfwm tteaaf\n",
      "10\n",
      "jwdfys usevise, t,js twiafvfz vweyse gsevl ssd,,e\n",
      "11\n",
      "ivcexr trduhrdz szir svh,euey uvdxrd frduk rrczzd\n",
      "12\n",
      "hubdwq sqctgqcy ryhq rugzdtdx tucwqc eqctj qqbyyc\n",
      "13\n",
      "gtacvp rpbsfpbx qxgp qtfycscw stbvpb dpbsi ppaxxb\n",
      "14\n",
      "fs,buo qoareoaw pwfo psexbrbv rsauoa coarh oo,wwa\n",
      "15\n",
      "erzatn pn,qdn,v oven ordwaqau qr,tn, bn,qg nnzvv,\n",
      "16\n",
      "dqy,sm omzpcmzu nudm nqcv,p,t pqzsmz amzpf mmyuuz\n",
      "17\n",
      "cpxzrl nlyoblyt mtcl mpbuzozs opyrly ,lyoe llxtty\n",
      "18\n",
      "bowyqk mkxnakxs lsbk loatynyr noxqkx zkxnd kkwssx\n",
      "19\n",
      "anvxpj ljwm,jwr kraj kn,sxmxq mnwpjw yjwmc jjvrrw\n",
      "20\n",
      ",muwoi kivlzivq jq,i jmzrwlwp lmvoiv xivlb iiuqqv\n",
      "21\n",
      "zltvnh jhukyhup ipzh ilyqvkvo klunhu whuka hhtppu\n",
      "22\n",
      "yksumg igtjxgto hoyg hkxpujun jktmgt vgtj, ggsoot\n",
      "23\n",
      "xjrtlf hfsiwfsn gnxf gjwotitm ijslfs ufsiz ffrnns\n",
      "24\n",
      "wiqske gerhverm fmwe fivnshsl hirker terhy eeqmmr\n",
      "25\n",
      "vhprjd fdqgudql elvd ehumrgrk ghqjdq sdqgx ddpllq\n"
     ]
    }
   ],
   "source": [
    "for i in range(1,26):\n",
    "    print(i)\n",
    "    print(decrypt('tfnphb dboesboj cjtb cfskpepi efohbo qboev bbnjjo',i))"
   ]
  },
  {
   "cell_type": "code",
   "execution_count": null,
   "metadata": {},
   "outputs": [],
   "source": []
  }
 ],
 "metadata": {
  "kernelspec": {
   "display_name": "Python 3",
   "language": "python",
   "name": "python3"
  },
  "language_info": {
   "codemirror_mode": {
    "name": "ipython",
    "version": 3
   },
   "file_extension": ".py",
   "mimetype": "text/x-python",
   "name": "python",
   "nbconvert_exporter": "python",
   "pygments_lexer": "ipython3",
   "version": "3.9.1"
  }
 },
 "nbformat": 4,
 "nbformat_minor": 4
}
