{
 "cells": [
  {
   "cell_type": "code",
   "execution_count": 1,
   "metadata": {},
   "outputs": [],
   "source": [
    "def encrypt(p,k):\n",
    "    c=''\n",
    "    b=len(p)\n",
    "    for i in range(0,b):\n",
    "        if p[i]==' ':\n",
    "            ct=' '\n",
    "        else :\n",
    "            ca=(ord(p[i]) - 97 + k) %26 #\n",
    "            y=ca+97\n",
    "            ct=chr(y)\n",
    "        c=c+ct\n",
    "    return c\n",
    "\n",
    "def decrypt(c,k):\n",
    "    p=''\n",
    "    b=len(c)\n",
    "    for i in range(0,b):\n",
    "        if c[i]==' ':\n",
    "            pt=' '\n",
    "        else :\n",
    "            pa=(ord(c[i]) - 97 - k) %26\n",
    "            y=pa+97\n",
    "            pt=chr(y)\n",
    "        p=p+pt\n",
    "    return p"
   ]
  },
  {
   "cell_type": "code",
   "execution_count": 6,
   "metadata": {},
   "outputs": [
    {
     "data": {
      "text/plain": [
       "'dnx sdqgx gdq doodk'"
      ]
     },
     "execution_count": 6,
     "metadata": {},
     "output_type": "execute_result"
    }
   ],
   "source": [
    "encrypt('aku pandu dan allah',3)"
   ]
  },
  {
   "cell_type": "code",
   "execution_count": 7,
   "metadata": {},
   "outputs": [
    {
     "data": {
      "text/plain": [
       "'aku pandu dan allah'"
      ]
     },
     "execution_count": 7,
     "metadata": {},
     "output_type": "execute_result"
    }
   ],
   "source": [
    "decrypt('dnx sdqgx gdq doodk',3)"
   ]
  },
  {
   "cell_type": "code",
   "execution_count": 11,
   "metadata": {},
   "outputs": [
    {
     "name": "stdout",
     "output_type": "stream",
     "text": [
      "1\n",
      "cjtnjmmbi tfnvb mbodbs mvmvt i ubivo qbt cjtb cfmj svnbi tfoejsj bbnjjo\n",
      "2\n",
      "dkuoknncj ugowc ncpect nwnwu j vcjwp rcu dkuc dgnk twocj ugpfktk ccokkp\n",
      "3\n",
      "elvploodk vhpxd odqfdu oxoxv k wdkxq sdv elvd ehol uxpdk vhqglul ddpllq\n",
      "4\n",
      "fmwqmppel wiqye pergev pypyw l xelyr tew fmwe fipm vyqel wirhmvm eeqmmr\n",
      "5\n",
      "gnxrnqqfm xjrzf qfshfw qzqzx m yfmzs ufx gnxf gjqn wzrfm xjsinwn ffrnns\n",
      "6\n",
      "hoysorrgn yksag rgtigx raray n zgnat vgy hoyg hkro xasgn yktjoxo ggsoot\n",
      "7\n",
      "ipztpssho zltbh shujhy sbsbz o ahobu whz ipzh ilsp ybtho zlukpyp hhtppu\n",
      "8\n",
      "jqauqttip amuci tivkiz tctca p bipcv xia jqai jmtq zcuip amvlqzq iiuqqv\n",
      "9\n",
      "krbvruujq bnvdj ujwlja ududb q cjqdw yjb krbj knur advjq bnwmrar jjvrrw\n",
      "10\n",
      "lscwsvvkr cowek vkxmkb vevec r dkrex zkc lsck lovs bewkr coxnsbs kkwssx\n",
      "11\n",
      "mtdxtwwls dpxfl wlynlc wfwfd s elsfy ald mtdl mpwt cfxls dpyotct llxtty\n",
      "12\n",
      "nueyuxxmt eqygm xmzomd xgxge t fmtgz bme nuem nqxu dgymt eqzpudu mmyuuz\n",
      "13\n",
      "ovfzvyynu frzhn ynapne yhyhf u gnuha cnf ovfn oryv ehznu fraqvev nnzvva\n",
      "14\n",
      "pwgawzzov gsaio zobqof zizig v hovib dog pwgo pszw fiaov gsbrwfw ooawwb\n",
      "15\n",
      "qxhbxaapw htbjp apcrpg ajajh w ipwjc eph qxhp qtax gjbpw htcsxgx ppbxxc\n",
      "16\n",
      "ryicybbqx iuckq bqdsqh bkbki x jqxkd fqi ryiq ruby hkcqx iudtyhy qqcyyd\n",
      "17\n",
      "szjdzccry jvdlr cretri clclj y kryle grj szjr svcz ildry jveuziz rrdzze\n",
      "18\n",
      "takeaddsz kwems dsfusj dmdmk z lszmf hsk taks twda jmesz kwfvaja sseaaf\n",
      "19\n",
      "ublfbeeta lxfnt etgvtk enenl a mtang itl ublt uxeb knfta lxgwbkb ttfbbg\n",
      "20\n",
      "vcmgcffub mygou fuhwul fofom b nuboh jum vcmu vyfc logub myhxclc uugcch\n",
      "21\n",
      "wdnhdggvc nzhpv gvixvm gpgpn c ovcpi kvn wdnv wzgd mphvc nziydmd vvhddi\n",
      "22\n",
      "xeoiehhwd oaiqw hwjywn hqhqo d pwdqj lwo xeow xahe nqiwd oajzene wwieej\n",
      "23\n",
      "yfpjfiixe pbjrx ixkzxo irirp e qxerk mxp yfpx ybif orjxe pbkafof xxjffk\n",
      "24\n",
      "zgqkgjjyf qcksy jylayp jsjsq f ryfsl nyq zgqy zcjg pskyf qclbgpg yykggl\n",
      "25\n",
      "ahrlhkkzg rdltz kzmbzq ktktr g szgtm ozr ahrz adkh qtlzg rdmchqh zzlhhm\n"
     ]
    }
   ],
   "source": [
    "for i in range(1,26):\n",
    "    print(i)\n",
    "    print(encrypt('bismillah semua lancar lulus 4 tahun pas bisa beli rumah sendiri aamiin',i))"
   ]
  },
  {
   "cell_type": "code",
   "execution_count": 12,
   "metadata": {},
   "outputs": [
    {
     "name": "stdout",
     "output_type": "stream",
     "text": [
      "1\n",
      "wdnhdggvc nzhpv gvixvm gpgpn c ovcpi kvn wdnv wzgd mphvc nziydmd vvhddi\n",
      "2\n",
      "vcmgcffub mygou fuhwul fofom b nuboh jum vcmu vyfc logub myhxclc uugcch\n",
      "3\n",
      "ublfbeeta lxfnt etgvtk enenl a mtang itl ublt uxeb knfta lxgwbkb ttfbbg\n",
      "4\n",
      "takeaddsz kwems dsfusj dmdmk z lszmf hsk taks twda jmesz kwfvaja sseaaf\n",
      "5\n",
      "szjdzccry jvdlr cretri clclj y kryle grj szjr svcz ildry jveuziz rrdzze\n",
      "6\n",
      "ryicybbqx iuckq bqdsqh bkbki x jqxkd fqi ryiq ruby hkcqx iudtyhy qqcyyd\n",
      "7\n",
      "qxhbxaapw htbjp apcrpg ajajh w ipwjc eph qxhp qtax gjbpw htcsxgx ppbxxc\n",
      "8\n",
      "pwgawzzov gsaio zobqof zizig v hovib dog pwgo pszw fiaov gsbrwfw ooawwb\n",
      "9\n",
      "ovfzvyynu frzhn ynapne yhyhf u gnuha cnf ovfn oryv ehznu fraqvev nnzvva\n",
      "10\n",
      "nueyuxxmt eqygm xmzomd xgxge t fmtgz bme nuem nqxu dgymt eqzpudu mmyuuz\n",
      "11\n",
      "mtdxtwwls dpxfl wlynlc wfwfd s elsfy ald mtdl mpwt cfxls dpyotct llxtty\n",
      "12\n",
      "lscwsvvkr cowek vkxmkb vevec r dkrex zkc lsck lovs bewkr coxnsbs kkwssx\n",
      "13\n",
      "krbvruujq bnvdj ujwlja ududb q cjqdw yjb krbj knur advjq bnwmrar jjvrrw\n",
      "14\n",
      "jqauqttip amuci tivkiz tctca p bipcv xia jqai jmtq zcuip amvlqzq iiuqqv\n",
      "15\n",
      "ipztpssho zltbh shujhy sbsbz o ahobu whz ipzh ilsp ybtho zlukpyp hhtppu\n",
      "16\n",
      "hoysorrgn yksag rgtigx raray n zgnat vgy hoyg hkro xasgn yktjoxo ggsoot\n",
      "17\n",
      "gnxrnqqfm xjrzf qfshfw qzqzx m yfmzs ufx gnxf gjqn wzrfm xjsinwn ffrnns\n",
      "18\n",
      "fmwqmppel wiqye pergev pypyw l xelyr tew fmwe fipm vyqel wirhmvm eeqmmr\n",
      "19\n",
      "elvploodk vhpxd odqfdu oxoxv k wdkxq sdv elvd ehol uxpdk vhqglul ddpllq\n",
      "20\n",
      "dkuoknncj ugowc ncpect nwnwu j vcjwp rcu dkuc dgnk twocj ugpfktk ccokkp\n",
      "21\n",
      "cjtnjmmbi tfnvb mbodbs mvmvt i ubivo qbt cjtb cfmj svnbi tfoejsj bbnjjo\n",
      "22\n",
      "bismillah semua lancar lulus h tahun pas bisa beli rumah sendiri aamiin\n",
      "23\n",
      "ahrlhkkzg rdltz kzmbzq ktktr g szgtm ozr ahrz adkh qtlzg rdmchqh zzlhhm\n",
      "24\n",
      "zgqkgjjyf qcksy jylayp jsjsq f ryfsl nyq zgqy zcjg pskyf qclbgpg yykggl\n",
      "25\n",
      "yfpjfiixe pbjrx ixkzxo irirp e qxerk mxp yfpx ybif orjxe pbkafof xxjffk\n"
     ]
    }
   ],
   "source": [
    "for i in range(1,26):\n",
    "    print(i)\n",
    "    print(decrypt('xeoiehhwd oaiqw hwjywn hqhqo d pwdqj lwo xeow xahe nqiwd oajzene wwieej',i))"
   ]
  }
 ],
 "metadata": {
  "kernelspec": {
   "display_name": "Python 3",
   "language": "python",
   "name": "python3"
  },
  "language_info": {
   "codemirror_mode": {
    "name": "ipython",
    "version": 3
   },
   "file_extension": ".py",
   "mimetype": "text/x-python",
   "name": "python",
   "nbconvert_exporter": "python",
   "pygments_lexer": "ipython3",
   "version": "3.9.1"
  }
 },
 "nbformat": 4,
 "nbformat_minor": 4
}
