{
 "cells": [
  {
   "cell_type": "code",
   "execution_count": 17,
   "id": "meaningful-grade",
   "metadata": {},
   "outputs": [
    {
     "name": "stdout",
     "output_type": "stream",
     "text": [
      "1439 74\n"
     ]
    }
   ],
   "source": [
    "p = 2273\n",
    "g = 3\n",
    "x = 243\n",
    "\n",
    "m = 700\n",
    "k = 1463\n",
    "\n",
    "\n",
    "y = g ** x % p\n",
    "\n",
    "def enkripsi(m, k, g, p, y):\n",
    "    a = g ** k % p\n",
    "    b = (y ** k * m) % p\n",
    "    return (a,b)\n",
    "\n",
    "\n",
    "(a,b) = enkripsi(m, k, g, p, y)\n",
    "\n",
    "print(a, b)"
   ]
  },
  {
   "cell_type": "code",
   "execution_count": 19,
   "id": "beginning-coffee",
   "metadata": {},
   "outputs": [
    {
     "name": "stdout",
     "output_type": "stream",
     "text": [
      "1220 1682\n"
     ]
    }
   ],
   "source": [
    "#dirubah nilai m dan k nya\n",
    "p = 2273\n",
    "g = 3\n",
    "x = 243\n",
    "\n",
    "m = 1114\n",
    "k = 2001\n",
    "\n",
    "\n",
    "y = g ** x % p\n",
    "\n",
    "def enkripsi(m, k, g, p, y):\n",
    "    a = g ** k % p\n",
    "    b = (y ** k * m) % p\n",
    "    return (a,b)\n",
    "\n",
    "\n",
    "(a,b) = enkripsi(m, k, g, p, y)\n",
    "\n",
    "print(a, b)"
   ]
  }
 ],
 "metadata": {
  "kernelspec": {
   "display_name": "Python 3",
   "language": "python",
   "name": "python3"
  },
  "language_info": {
   "codemirror_mode": {
    "name": "ipython",
    "version": 3
   },
   "file_extension": ".py",
   "mimetype": "text/x-python",
   "name": "python",
   "nbconvert_exporter": "python",
   "pygments_lexer": "ipython3",
   "version": "3.9.1"
  }
 },
 "nbformat": 4,
 "nbformat_minor": 5
}
